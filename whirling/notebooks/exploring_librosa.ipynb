{
 "cells": [
  {
   "cell_type": "markdown",
   "metadata": {},
   "source": [
    "# Load song and display spectrogram"
   ]
  },
  {
   "cell_type": "code",
   "execution_count": null,
   "metadata": {},
   "outputs": [],
   "source": [
    "%matplotlib inline\n",
    "import librosa\n",
    "import matplotlib.pyplot as plt\n",
    "import matplotlib\n",
    "import librosa.display as display\n",
    "import numpy as np\n",
    "import IPython.display as ipd\n",
    "from collections import OrderedDict\n",
    "import scipy"
   ]
  },
  {
   "cell_type": "code",
   "execution_count": null,
   "metadata": {},
   "outputs": [],
   "source": [
    "y, sr = librosa.load('../../data/latch.mp3', duration=30)\n",
    "D = librosa.stft(y, n_fft=2048)"
   ]
  },
  {
   "cell_type": "code",
   "execution_count": null,
   "metadata": {},
   "outputs": [],
   "source": [
    "matplotlib.rcParams['figure.figsize'] = [20, 5]\n",
    "\n",
    "od = OrderedDict()\n",
    "od['D'] = D\n",
    "\n",
    "# Plot\n",
    "index = 1\n",
    "plt.figure()\n",
    "for key, value in od.items(): \n",
    "    plt.subplot(len(od), 1, index)\n",
    "    display.specshow(librosa.amplitude_to_db(np.abs(value), ref=np.max), y_axis='log')\n",
    "    #display.specshow(np.abs(value), y_axis='log')\n",
    "    plt.title('Full power spectrogram: {}'.format(key))\n",
    "    plt.colorbar(format='%+2.0f dB')\n",
    "    index += 1 \n",
    "\n",
    "plt.show();"
   ]
  },
  {
   "cell_type": "markdown",
   "metadata": {},
   "source": [
    "# Exploring n_fft - related to number of rows in the STFT"
   ]
  },
  {
   "cell_type": "code",
   "execution_count": null,
   "metadata": {},
   "outputs": [],
   "source": [
    "D8 = librosa.stft(y, n_fft=8)\n",
    "D64 = librosa.stft(y, n_fft=64)\n",
    "D128 = librosa.stft(y, n_fft=128)\n",
    "D256 = librosa.stft(y, n_fft=256)\n",
    "D512 = librosa.stft(y, n_fft=256)"
   ]
  },
  {
   "cell_type": "code",
   "execution_count": null,
   "metadata": {
    "scrolled": false
   },
   "outputs": [],
   "source": [
    "matplotlib.rcParams['figure.figsize'] = [15, 15]\n",
    "\n",
    "od = OrderedDict()\n",
    "od['D8'] = D8\n",
    "od['D64'] = D64\n",
    "od['D128'] = D128\n",
    "od['D256'] = D256\n",
    "od['D512'] = D512\n",
    "od['D'] = D\n",
    "\n",
    "# Plot\n",
    "index = 1\n",
    "plt.figure()\n",
    "for key, value in od.items(): \n",
    "    plt.subplot(len(od), 1, index)\n",
    "    display.specshow(librosa.amplitude_to_db(np.abs(value), ref=np.max), y_axis='log')\n",
    "    plt.title('Full power spectrogram: {}'.format(key))\n",
    "    plt.colorbar(format='%+2.0f dB')\n",
    "    index += 1 \n",
    "\n",
    "plt.show();"
   ]
  },
  {
   "cell_type": "markdown",
   "metadata": {},
   "source": [
    "# Harmonic/Percussion separation"
   ]
  },
  {
   "cell_type": "code",
   "execution_count": null,
   "metadata": {},
   "outputs": [],
   "source": [
    "DFull = librosa.stft(y, n_fft=2048)\n",
    "DH, DP = librosa.decompose.hpss(D, margin=2)\n",
    "\n",
    "matplotlib.rcParams['figure.figsize'] = [15, 15]\n",
    "\n",
    "od = OrderedDict()\n",
    "od['D'] = D\n",
    "od['DHarmonic'] = DH\n",
    "od['DPercussion'] = DP\n",
    "\n",
    "# Plot\n",
    "index = 1\n",
    "plt.figure()\n",
    "for key, value in od.items(): \n",
    "    plt.subplot(len(od), 1, index)\n",
    "    display.specshow(librosa.amplitude_to_db(np.abs(value), ref=np.max), y_axis='log')\n",
    "    plt.title('Full power spectrogram: {}'.format(key))\n",
    "    plt.colorbar(format='%+2.0f dB')\n",
    "    index += 1 \n",
    "\n",
    "plt.show();"
   ]
  },
  {
   "cell_type": "code",
   "execution_count": null,
   "metadata": {},
   "outputs": [],
   "source": [
    "librosa.amplitude_to_db(np.abs(D), ref=np.max).shape"
   ]
  },
  {
   "cell_type": "code",
   "execution_count": null,
   "metadata": {},
   "outputs": [],
   "source": [
    "y_hat = librosa.istft(D)\n",
    "yh_hat = librosa.istft(DH)\n",
    "yp_hat = librosa.istft(DP)"
   ]
  },
  {
   "cell_type": "code",
   "execution_count": null,
   "metadata": {},
   "outputs": [],
   "source": [
    "ipd.Audio(y, rate=sr)"
   ]
  },
  {
   "cell_type": "code",
   "execution_count": null,
   "metadata": {},
   "outputs": [],
   "source": [
    "ipd.Audio(yh_hat, rate=sr)"
   ]
  },
  {
   "cell_type": "code",
   "execution_count": null,
   "metadata": {},
   "outputs": [],
   "source": [
    "ipd.Audio(yp_hat, rate=sr)"
   ]
  },
  {
   "cell_type": "markdown",
   "metadata": {},
   "source": [
    "# Melspectrogram"
   ]
  },
  {
   "cell_type": "code",
   "execution_count": null,
   "metadata": {},
   "outputs": [],
   "source": [
    "# Generate melspectrogram\n",
    "MS = librosa.feature.melspectrogram(S=DFull, sr=sr)\n",
    "plt.figure(figsize=(10, 4))\n",
    "S_dB = librosa.power_to_db(MS, ref=np.max)\n",
    "\n",
    "# Plot some stuffs\n",
    "plt.figure()\n",
    "plt.subplot(2, 1, 1)\n",
    "librosa.display.specshow(S_dB, x_axis='time',\n",
    "                         y_axis='mel', sr=sr,\n",
    "                         fmax=8000)\n",
    "plt.subplot(2, 1, 2)\n",
    "display.specshow(librosa.amplitude_to_db(np.abs(DFull), ref=np.max), y_axis='log')"
   ]
  },
  {
   "cell_type": "markdown",
   "metadata": {},
   "source": [
    "# Explore chromagrams"
   ]
  },
  {
   "cell_type": "code",
   "execution_count": null,
   "metadata": {},
   "outputs": [],
   "source": [
    "S = np.abs(librosa.stft(y, n_fft=4096))**2\n",
    "chroma = librosa.feature.chroma_stft(S=S, sr=sr)\n",
    "plt.figure(figsize=(10, 4))\n",
    "librosa.display.specshow(chroma, y_axis='chroma', x_axis='time')\n",
    "plt.colorbar()\n",
    "plt.title('Chromagram')\n",
    "plt.tight_layout()"
   ]
  },
  {
   "cell_type": "code",
   "execution_count": null,
   "metadata": {},
   "outputs": [],
   "source": [
    "#np.abs(value)\n",
    "librosa.amplitude_to_db(np.abs(value), ref=np.max)"
   ]
  },
  {
   "cell_type": "code",
   "execution_count": null,
   "metadata": {},
   "outputs": [],
   "source": [
    "CQT = librosa.amplitude_to_db(np.abs(librosa.cqt(y, sr=sr)), ref=np.max)\n",
    "librosa.display.specshow(CQT, y_axis='cqt_note')\n",
    "plt.colorbar(format='%+2.0f dB')\n",
    "plt.title('Constant-Q power spectrogram (note)')"
   ]
  },
  {
   "cell_type": "markdown",
   "metadata": {},
   "source": [
    "# Foreground/ background separation"
   ]
  },
  {
   "cell_type": "code",
   "execution_count": null,
   "metadata": {},
   "outputs": [],
   "source": [
    "\n",
    "# And compute the spectrogram magnitude and phase\n",
    "S_full, phase = librosa.magphase(librosa.stft(y))\n",
    "\n",
    "\n",
    "#######################################\n",
    "# Plot a 5-second slice of the spectrum\n",
    "plt.figure(figsize=(12, 4))\n",
    "librosa.display.specshow(librosa.amplitude_to_db(S_full, ref=np.max),\n",
    "                         y_axis='log', x_axis='time', sr=sr)\n",
    "plt.colorbar()\n",
    "plt.tight_layout()\n",
    "\n",
    "###########################################################\n",
    "# The wiggly lines above are due to the vocal component.\n",
    "# Our goal is to separate them from the accompanying\n",
    "# instrumentation.\n",
    "#\n",
    "\n",
    "# We'll compare frames using cosine similarity, and aggregate similar frames\n",
    "# by taking their (per-frequency) median value.\n",
    "#\n",
    "# To avoid being biased by local continuity, we constrain similar frames to be\n",
    "# separated by at least 2 seconds.\n",
    "#\n",
    "# This suppresses sparse/non-repetetitive deviations from the average spectrum,\n",
    "# and works well to discard vocal elements.\n",
    "\n",
    "S_filter = librosa.decompose.nn_filter(S_full,\n",
    "                                       aggregate=np.median,\n",
    "                                       metric='cosine',\n",
    "                                       width=int(librosa.time_to_frames(2, sr=sr)))\n",
    "\n",
    "# The output of the filter shouldn't be greater than the input\n",
    "# if we assume signals are additive.  Taking the pointwise minimium\n",
    "# with the input spectrum forces this.\n",
    "S_filter = np.minimum(S_full, S_filter)\n",
    "\n",
    "\n",
    "##############################################\n",
    "# The raw filter output can be used as a mask,\n",
    "# but it sounds better if we use soft-masking.\n",
    "\n",
    "# We can also use a margin to reduce bleed between the vocals and instrumentation masks.\n",
    "# Note: the margins need not be equal for foreground and background separation\n",
    "margin_i, margin_v = 2, 10\n",
    "power = 2\n",
    "\n",
    "mask_i = librosa.util.softmask(S_filter,\n",
    "                               margin_i * (S_full - S_filter),\n",
    "                               power=power)\n",
    "\n",
    "mask_v = librosa.util.softmask(S_full - S_filter,\n",
    "                               margin_v * S_filter,\n",
    "                               power=power)\n",
    "\n",
    "# Once we have the masks, simply multiply them with the input spectrum\n",
    "# to separate the components\n",
    "\n",
    "S_foreground = mask_v * S_full\n",
    "S_background = mask_i * S_full\n",
    "\n",
    "\n",
    "##########################################\n",
    "# Plot the same slice, but separated into its foreground and background\n",
    "\n",
    "# sphinx_gallery_thumbnail_number = 2\n",
    "\n",
    "plt.figure(figsize=(12, 8))\n",
    "plt.subplot(3, 1, 1)\n",
    "librosa.display.specshow(librosa.amplitude_to_db(S_full, ref=np.max),\n",
    "                         y_axis='log', sr=sr)\n",
    "plt.title('Full spectrum')\n",
    "plt.colorbar()\n",
    "\n",
    "plt.subplot(3, 1, 2)\n",
    "librosa.display.specshow(librosa.amplitude_to_db(S_background, ref=np.max),\n",
    "                         y_axis='log', sr=sr)\n",
    "plt.title('Background')\n",
    "plt.colorbar()\n",
    "plt.subplot(3, 1, 3)\n",
    "librosa.display.specshow(librosa.amplitude_to_db(S_foreground, ref=np.max),\n",
    "                         y_axis='log', x_axis='time', sr=sr)\n",
    "plt.title('Foreground')\n",
    "plt.colorbar()\n",
    "plt.tight_layout()\n",
    "plt.show()"
   ]
  },
  {
   "cell_type": "code",
   "execution_count": null,
   "metadata": {},
   "outputs": [],
   "source": [
    "y_fg = librosa.istft(S_foreground*phase)\n",
    "ipd.Audio(y_fg, rate=sr)"
   ]
  },
  {
   "cell_type": "code",
   "execution_count": null,
   "metadata": {},
   "outputs": [],
   "source": [
    "y_bg = librosa.istft(S_background*phase)\n",
    "ipd.Audio(y_bg, rate=sr)"
   ]
  },
  {
   "cell_type": "code",
   "execution_count": null,
   "metadata": {},
   "outputs": [],
   "source": [
    "y_full = librosa.istft(S_full*phase)\n",
    "ipd.Audio(y_full, rate=sr)"
   ]
  },
  {
   "cell_type": "code",
   "execution_count": null,
   "metadata": {},
   "outputs": [],
   "source": [
    "ipd.Audio(y, rate=sr)"
   ]
  },
  {
   "cell_type": "markdown",
   "metadata": {},
   "source": [
    "# Enhanced chroma"
   ]
  },
  {
   "cell_type": "code",
   "execution_count": null,
   "metadata": {
    "scrolled": false
   },
   "outputs": [],
   "source": [
    "#######################################\n",
    "# First, let's plot the original chroma\n",
    "chroma_orig = librosa.feature.chroma_cqt(y=y, sr=sr)\n",
    "\n",
    "# And for comparison, we'll show the CQT matrix as well.\n",
    "C = np.abs(librosa.cqt(y=y, sr=sr, bins_per_octave=12*3, n_bins=7*12*3))\n",
    "\n",
    "\n",
    "plt.figure(figsize=(12, 4))\n",
    "plt.subplot(2, 1, 1)\n",
    "librosa.display.specshow(librosa.amplitude_to_db(C, ref=np.max),\n",
    "                         y_axis='cqt_note', bins_per_octave=12*3)\n",
    "plt.colorbar()\n",
    "plt.subplot(2, 1, 2)\n",
    "librosa.display.specshow(chroma_orig, y_axis='chroma')\n",
    "plt.colorbar()\n",
    "plt.ylabel('Original')\n",
    "plt.tight_layout()\n",
    "\n",
    "\n",
    "###########################################################\n",
    "# We can correct for minor tuning deviations by using 3 CQT\n",
    "# bins per semi-tone, instead of one\n",
    "chroma_os = librosa.feature.chroma_cqt(y=y, sr=sr, bins_per_octave=12*3)\n",
    "\n",
    "\n",
    "plt.figure(figsize=(12, 4))\n",
    "\n",
    "plt.subplot(2, 1, 1)\n",
    "librosa.display.specshow(chroma_orig, y_axis='chroma')\n",
    "plt.colorbar()\n",
    "plt.ylabel('Original')\n",
    "\n",
    "\n",
    "plt.subplot(2, 1, 2)\n",
    "librosa.display.specshow(chroma_os, y_axis='chroma', x_axis='time')\n",
    "plt.colorbar()\n",
    "plt.ylabel('3x-over')\n",
    "plt.tight_layout()\n",
    "\n",
    "\n",
    "########################################################\n",
    "# That cleaned up some rough edges, but we can do better\n",
    "# by isolating the harmonic component.\n",
    "# We'll use a large margin for separating harmonics from percussives\n",
    "y_harm = librosa.effects.harmonic(y=y, margin=8)\n",
    "chroma_os_harm = librosa.feature.chroma_cqt(y=y_harm, sr=sr, bins_per_octave=12*3)\n",
    "\n",
    "\n",
    "plt.figure(figsize=(12, 4))\n",
    "\n",
    "plt.subplot(2, 1, 1)\n",
    "librosa.display.specshow(chroma_os, y_axis='chroma')\n",
    "plt.colorbar()\n",
    "plt.ylabel('3x-over')\n",
    "\n",
    "plt.subplot(2, 1, 2)\n",
    "librosa.display.specshow(chroma_os_harm, y_axis='chroma', x_axis='time')\n",
    "plt.colorbar()\n",
    "plt.ylabel('Harmonic')\n",
    "plt.tight_layout()\n",
    "\n",
    "\n",
    "###########################################\n",
    "# There's still some noise in there though.\n",
    "# We can clean it up using non-local filtering.\n",
    "# This effectively removes any sparse additive noise from the features.\n",
    "chroma_filter = np.minimum(chroma_os_harm,\n",
    "                           librosa.decompose.nn_filter(chroma_os_harm,\n",
    "                                                       aggregate=np.median,\n",
    "                                                       metric='cosine'))\n",
    "\n",
    "\n",
    "plt.figure(figsize=(12, 4))\n",
    "\n",
    "plt.subplot(2, 1, 1)\n",
    "librosa.display.specshow(chroma_os_harm, y_axis='chroma')\n",
    "plt.colorbar()\n",
    "plt.ylabel('Harmonic')\n",
    "\n",
    "plt.subplot(2, 1, 2)\n",
    "librosa.display.specshow(chroma_filter, y_axis='chroma', x_axis='time')\n",
    "plt.colorbar()\n",
    "plt.ylabel('Non-local')\n",
    "plt.tight_layout()\n",
    "\n",
    "\n",
    "###########################################################\n",
    "# Local discontinuities and transients can be suppressed by\n",
    "# using a horizontal median filter.\n",
    "chroma_smooth = scipy.ndimage.median_filter(chroma_filter, size=(1, 9))\n",
    "\n",
    "\n",
    "plt.figure(figsize=(12, 4))\n",
    "\n",
    "plt.subplot(2, 1, 1)\n",
    "librosa.display.specshow(chroma_filter, y_axis='chroma')\n",
    "plt.colorbar()\n",
    "plt.ylabel('Non-local')\n",
    "\n",
    "plt.subplot(2, 1, 2)\n",
    "librosa.display.specshow(chroma_smooth, y_axis='chroma', x_axis='time')\n",
    "plt.colorbar()\n",
    "plt.ylabel('Median-filtered')\n",
    "plt.tight_layout()\n",
    "\n",
    "\n",
    "#########################################################\n",
    "# A final comparison between the CQT, original chromagram\n",
    "# and the result of our filtering.\n",
    "plt.figure(figsize=(12, 8))\n",
    "plt.subplot(3, 1, 1)\n",
    "librosa.display.specshow(librosa.amplitude_to_db(C, ref=np.max),\n",
    "                         y_axis='cqt_note', bins_per_octave=12*3)\n",
    "plt.colorbar()\n",
    "plt.ylabel('CQT')\n",
    "plt.subplot(3, 1, 2)\n",
    "librosa.display.specshow(chroma_orig, y_axis='chroma')\n",
    "plt.ylabel('Original')\n",
    "plt.colorbar()\n",
    "plt.subplot(3, 1, 3)\n",
    "librosa.display.specshow(chroma_smooth, y_axis='chroma', x_axis='time')\n",
    "plt.ylabel('Processed')\n",
    "plt.colorbar()\n",
    "plt.tight_layout()\n",
    "plt.show()"
   ]
  },
  {
   "cell_type": "code",
   "execution_count": null,
   "metadata": {},
   "outputs": [],
   "source": []
  },
  {
   "cell_type": "code",
   "execution_count": null,
   "metadata": {},
   "outputs": [],
   "source": []
  }
 ],
 "metadata": {
  "kernelspec": {
   "display_name": "Python 3",
   "language": "python",
   "name": "python3"
  },
  "language_info": {
   "codemirror_mode": {
    "name": "ipython",
    "version": 3
   },
   "file_extension": ".py",
   "mimetype": "text/x-python",
   "name": "python",
   "nbconvert_exporter": "python",
   "pygments_lexer": "ipython3",
   "version": "3.6.8"
  }
 },
 "nbformat": 4,
 "nbformat_minor": 2
}
