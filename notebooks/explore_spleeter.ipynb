{
 "cells": [
  {
   "cell_type": "code",
   "execution_count": null,
   "metadata": {},
   "outputs": [],
   "source": [
    "%matplotlib inline\n",
    "import numpy as np\n",
    "import librosa\n",
    "from spleeter.audio.adapter import get_default_audio_adapter\n",
    "from spleeter.separator import Separator\n",
    "import librosa\n",
    "import matplotlib.pyplot as plt\n",
    "import matplotlib\n",
    "import librosa.display as display\n",
    "import numpy as np\n",
    "import IPython.display as ipd\n",
    "from collections import OrderedDict\n",
    "import scipy\n",
    "import numpy as np\n",
    "import sklearn"
   ]
  },
  {
   "cell_type": "code",
   "execution_count": null,
   "metadata": {},
   "outputs": [],
   "source": [
    "tracks = [\n",
    "    '../data/bensound-buddy.mp3'\n",
    "    '../data/bensound-tomorrow.mp3'\n",
    "    '../data/Christian Löffler - Mare/Christian Löffler - Mare - 01 Myiami.mp3'\n",
    "    '../data/Christian Löffler - Mare/Christian Löffler - Mare - 02 Haul (feat. Mohna).mp3'\n",
    "    '../data/Christian Löffler - Mare/Christian Löffler - Mare - 03 Mosaics.mp3'\n",
    "    '../data/Christian Löffler - Mare/Christian Löffler - Mare - 04 Neo.mp3'\n",
    "    '../data/Christian Löffler - Mare/Christian Löffler - Mare - 05 Youth.mp3'\n",
    "    '../data/Christian Löffler - Mare/Christian Löffler - Mare - 06 Lid.mp3'\n",
    "    '../data/Christian Löffler - Mare/Christian Löffler - Mare - 07 Mare (feat. Mohna).mp3'\n",
    "    '../data/Christian Löffler - Mare/Christian Löffler - Mare - 08 Athlete.mp3'\n",
    "    '../data/Christian Löffler - Mare/Christian Löffler - Mare - 09 Vind (feat. Mohna).mp3'\n",
    "    '../data/Christian Löffler - Mare/Christian Löffler - Mare - 10 Silk.mp3'\n",
    "    '../data/Christian Löffler - Mare/Christian Löffler - Mare - 11 Nil.mp3'\n",
    "    '../data/Christian Löffler - Mare/Christian Löffler - Mare - 12 Swim.mp3'\n",
    "    '../data/Christian Löffler - Mare/Christian Löffler - Mare - 13 Krone.mp3'\n",
    "    '../data/Christian Löffler - Mare/Christian Löffler - Mare - 14 Pacific.mp3'\n",
    "    '../data/Christian Löffler - Mare/Christian Löffler - Mare - 15 Pigment.mp3'\n",
    "    '../data/Christian Löffler - Mare/Christian Löffler - Mare - 16 Wilderness (feat. Mohna).mp3'\n",
    "    '../data/Christian Löffler - Mare/Christian Löffler - Mare - 17 The Great White Open.mp3'\n",
    "    '../data/dont.mp3'\n",
    "    '../data/exit_music.mp3'\n",
    "    '../data/Floating Points - Ratio (Full Mix).mp3'\n",
    "    '../data/latch copy.mp3'\n",
    "    '../data/latch.mp3'\n",
    "    '../data/SHIGETO - Detroit Part 1.mp3'\n",
    "    '../data/Shlohmo - Laid Out EP/Shlohmo - Laid Out EP - 01 Don\\'t Say No ft. How To Dress Well.mp3'\n",
    "    '../data/Shlohmo - Laid Out EP/Shlohmo - Laid Out EP - 02 Out Of Hand.mp3'\n",
    "    '../data/Shlohmo - Laid Out EP/Shlohmo - Laid Out EP - 03 Later.mp3'\n",
    "    '../data/Shlohmo - Laid Out EP/Shlohmo - Laid Out EP - 04 Put It.mp3'\n",
    "    '../data/Shlohmo - Laid Out EP/Shlohmo - Laid Out EP - 05 Without.mp3'\n",
    "]"
   ]
  },
  {
   "cell_type": "code",
   "execution_count": null,
   "metadata": {},
   "outputs": [],
   "source": [
    "# Using embedded configuration.\n",
    "track = '../data/Christian Löffler - Mare/Christian Löffler - Mare - 02 Haul (feat. Mohna).mp3'\n",
    "separator = Separator('spleeter:4stems')\n",
    "audio_loader = get_default_audio_adapter()\n",
    "sr = 22050\n",
    "waveform, _ = audio_loader.load(track, sample_rate=sr)\n",
    "\n",
    "# Perform the separation :\n",
    "prediction = separator.separate(waveform)"
   ]
  },
  {
   "cell_type": "markdown",
   "metadata": {},
   "source": [
    "prediction.keys()"
   ]
  },
  {
   "cell_type": "code",
   "execution_count": null,
   "metadata": {},
   "outputs": [],
   "source": [
    "# def load_track(track: str, sr:int=22500):\n",
    "#     y, sr = librosa.load(track, sr=sr)\n",
    "#     return y, sr\n",
    "\n",
    "# y, sr = load_track(track, sr)\n",
    "# print(y.shape)\n",
    "# print(np.mean(y))\n",
    "# ipd.Audio(y, rate=sr)"
   ]
  },
  {
   "cell_type": "code",
   "execution_count": null,
   "metadata": {},
   "outputs": [],
   "source": [
    "print(waveform.shape)"
   ]
  },
  {
   "cell_type": "code",
   "execution_count": null,
   "metadata": {},
   "outputs": [],
   "source": [
    "waveform"
   ]
  },
  {
   "cell_type": "code",
   "execution_count": null,
   "metadata": {},
   "outputs": [],
   "source": [
    "np.mean(waveform)"
   ]
  },
  {
   "cell_type": "code",
   "execution_count": null,
   "metadata": {},
   "outputs": [],
   "source": [
    "prediction['vocals'].shape"
   ]
  },
  {
   "cell_type": "code",
   "execution_count": null,
   "metadata": {},
   "outputs": [],
   "source": [
    "waveform[:,1].shape == waveform[:,0].shape"
   ]
  },
  {
   "cell_type": "code",
   "execution_count": null,
   "metadata": {},
   "outputs": [],
   "source": [
    "ipd.Audio(prediction['vocals'][:, 0], rate=sr)"
   ]
  },
  {
   "cell_type": "code",
   "execution_count": null,
   "metadata": {},
   "outputs": [],
   "source": [
    "ipd.Audio(prediction['drums'][:, 0], rate=sr)"
   ]
  },
  {
   "cell_type": "code",
   "execution_count": null,
   "metadata": {},
   "outputs": [],
   "source": [
    "ipd.Audio(prediction['bass'][:, 0], rate=sr)"
   ]
  },
  {
   "cell_type": "code",
   "execution_count": null,
   "metadata": {},
   "outputs": [],
   "source": [
    "ipd.Audio(prediction['other'][:, 0], rate=sr)"
   ]
  }
 ],
 "metadata": {
  "file_extension": ".py",
  "kernelspec": {
   "display_name": "Python 3.6.8 64-bit ('Whirling': venv)",
   "language": "python",
   "name": "python36864bitwhirlingvenv8792a54b4b3948ada590c8c4a4ec0a69"
  },
  "language_info": {
   "codemirror_mode": {
    "name": "ipython",
    "version": 3
   },
   "file_extension": ".py",
   "mimetype": "text/x-python",
   "name": "python",
   "nbconvert_exporter": "python",
   "pygments_lexer": "ipython3",
   "version": "3.6.8"
  },
  "mimetype": "text/x-python",
  "name": "python",
  "npconvert_exporter": "python",
  "pygments_lexer": "ipython3",
  "version": 3
 },
 "nbformat": 4,
 "nbformat_minor": 2
}
