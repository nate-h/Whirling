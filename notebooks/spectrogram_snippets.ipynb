{
 "cells": [
  {
   "cell_type": "code",
   "execution_count": null,
   "metadata": {},
   "outputs": [],
   "source": [
    "%matplotlib notebook\n",
    "import librosa\n",
    "import matplotlib.pyplot as plt\n",
    "import matplotlib\n",
    "import librosa.display as display\n",
    "import numpy as np\n",
    "import IPython.display as ipd\n",
    "from collections import OrderedDict\n",
    "import scipy\n",
    "import numpy as np\n",
    "import sklearn\n",
    "import math\n",
    "import time"
   ]
  },
  {
   "cell_type": "code",
   "execution_count": null,
   "metadata": {},
   "outputs": [],
   "source": [
    "t1 = time.time()\n",
    "duration=None\n",
    "#duration=45\n",
    "y, sr = librosa.load('../data/latch.mp3', duration=duration)\n",
    "print(f'Time: {time.time() - t1}')\n",
    "print(y.shape)\n",
    "print(f'Song length: {librosa.get_duration(y=y,sr=sr)}')"
   ]
  },
  {
   "cell_type": "code",
   "execution_count": null,
   "metadata": {},
   "outputs": [],
   "source": [
    "t1 = time.time()\n",
    "n_fft=2048\n",
    "D = librosa.stft(y, n_fft=n_fft)\n",
    "print(D.shape)\n",
    "print(y.shape[0]/D.shape[1])\n",
    "print(f'Time: {time.time() - t1}')"
   ]
  },
  {
   "cell_type": "code",
   "execution_count": null,
   "metadata": {},
   "outputs": [],
   "source": [
    "all_freqs = librosa.fft_frequencies(sr=sr, n_fft=n_fft)"
   ]
  },
  {
   "cell_type": "code",
   "execution_count": null,
   "metadata": {},
   "outputs": [],
   "source": [
    "freqs = list(map(int, all_freqs))\n",
    "freqs = freqs[0:20]\n",
    "print(freqs)"
   ]
  },
  {
   "cell_type": "code",
   "execution_count": null,
   "metadata": {},
   "outputs": [],
   "source": [
    "diff = [freqs[i + 1] - f for i, f in enumerate(freqs) if i < len(freqs) - 1]"
   ]
  },
  {
   "cell_type": "code",
   "execution_count": null,
   "metadata": {},
   "outputs": [],
   "source": [
    "print(f'len: {len(diff)}')\n",
    "print(f'min: {min(diff)}')\n",
    "print(f'max: {max(diff)}')"
   ]
  },
  {
   "cell_type": "code",
   "execution_count": null,
   "metadata": {},
   "outputs": [],
   "source": [
    "all_freqs[-1]"
   ]
  },
  {
   "cell_type": "code",
   "execution_count": null,
   "metadata": {},
   "outputs": [],
   "source": [
    "import math\n",
    "As = [27.5*math.pow(2, n) for n in range(10)]\n",
    "print(As)\n"
   ]
  },
  {
   "cell_type": "code",
   "execution_count": null,
   "metadata": {},
   "outputs": [],
   "source": [
    "[27.5*math.pow(2, (2-i)/12) for i in range(12)]"
   ]
  },
  {
   "cell_type": "code",
   "execution_count": null,
   "metadata": {},
   "outputs": [],
   "source": [
    "n = 12\n",
    "np.linspace(0, (12.0 * n) / 12, num=n+1, endpoint=True)"
   ]
  },
  {
   "cell_type": "code",
   "execution_count": null,
   "metadata": {},
   "outputs": [],
   "source": [
    "t = [40*math.pow(2, n) for n in range(10)]\n",
    "print(t)"
   ]
  },
  {
   "cell_type": "code",
   "execution_count": null,
   "metadata": {},
   "outputs": [],
   "source": [
    "librosa.amplitude_to_db(np.abs(D), ref=np.max)"
   ]
  },
  {
   "cell_type": "code",
   "execution_count": null,
   "metadata": {},
   "outputs": [],
   "source": [
    "D.shape"
   ]
  },
  {
   "cell_type": "code",
   "execution_count": null,
   "metadata": {},
   "outputs": [],
   "source": [
    "db_s = librosa.amplitude_to_db(np.abs(D), ref=np.max)\n",
    "db_s.shape\n",
    "idxs = [(int(math.pow(2, (i-1)/12)), int(math.pow(2, i/12))) for i in range(11*12 + 1)\n",
    "        if int(math.pow(2, (i-1)/12)) != int(math.pow(2, (i)/12))]"
   ]
  },
  {
   "cell_type": "code",
   "execution_count": null,
   "metadata": {},
   "outputs": [],
   "source": [
    "print(math.pow(2, 11*12/12))\n",
    "print(db_s.shape[0])\n",
    "\n",
    "temp_s = [\n",
    "    [np.average(db_s[idx1: idx2, j]) for idx1, idx2 in idxs]\n",
    "    for j in range(db_s.shape[1])\n",
    "]\n",
    "log_db_s = np.array(temp_s)\n",
    "print(log_db_s.T.shape)\n",
    "plt.rcParams['figure.figsize'] = [11, 3]\n",
    "plt.imshow(log_db_s.T, aspect=7, origin='lower')"
   ]
  },
  {
   "cell_type": "code",
   "execution_count": null,
   "metadata": {},
   "outputs": [],
   "source": [
    "########################################################################\n",
    "# Go from a clip of input signal y to creating a log y-axis spectrorgram\n",
    "########################################################################\n",
    "\n",
    "timer_start = time.time()\n",
    "t_start = 0\n",
    "t_end = 8\n",
    "\n",
    "n_fft=2048\n",
    "D = librosa.stft(y, n_fft=n_fft)\n",
    "\n",
    "# db scale spectrogram.\n",
    "db_s = librosa.amplitude_to_db(np.abs(D), ref=np.max)\n",
    "print(f'D shape: {db_s.shape}')\n",
    "\n",
    "idxs = [(int(math.pow(2, (i-1)/12)), int(math.pow(2, i/12))) for i in range(11*12 + 1)\n",
    "        if int(math.pow(2, (i-1)/12)) != int(math.pow(2, (i)/12))]\n",
    "\n",
    "print(math.pow(2, 11*12/12))\n",
    "print(db_s.shape[0])\n",
    "\n",
    "log_db_s = np.array([\n",
    "    [np.average(db_s[idx1: idx2, j]) for idx1, idx2 in idxs]\n",
    "    for j in range(db_s.shape[1])\n",
    "])\n",
    "print(log_db_s.T.shape)\n",
    "\n",
    "print(f'Time: {time.time() - timer_start}')\n",
    "\n",
    "plt.rcParams['figure.figsize'] = [11, 3]\n",
    "plt.imshow(log_db_s.T, aspect=7, origin='lower')"
   ]
  },
  {
   "cell_type": "code",
   "execution_count": null,
   "metadata": {},
   "outputs": [],
   "source": [
    "#plt.figure(figsize=(10, 4))\n",
    "#db_D = librosa.amplitude_to_db(np.abs(D))\n",
    "#librosa.display.specshow(db_D, y_axis='log', x_axis='time')"
   ]
  }
 ],
 "metadata": {
  "kernelspec": {
   "display_name": "Whirling",
   "language": "python",
   "name": "whirling"
  },
  "language_info": {
   "codemirror_mode": {
    "name": "ipython",
    "version": 3
   },
   "file_extension": ".py",
   "mimetype": "text/x-python",
   "name": "python",
   "nbconvert_exporter": "python",
   "pygments_lexer": "ipython3",
   "version": "3.6.8"
  }
 },
 "nbformat": 4,
 "nbformat_minor": 2
}
