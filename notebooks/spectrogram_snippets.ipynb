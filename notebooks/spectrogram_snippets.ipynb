{
 "cells": [
  {
   "cell_type": "code",
   "execution_count": null,
   "metadata": {},
   "outputs": [],
   "source": [
    "%matplotlib notebook\n",
    "import librosa\n",
    "import matplotlib.pyplot as plt\n",
    "import matplotlib\n",
    "import librosa.display as display\n",
    "import numpy as np\n",
    "import IPython.display as ipd\n",
    "from collections import OrderedDict\n",
    "import scipy\n",
    "import numpy as np\n",
    "import sklearn\n",
    "import math"
   ]
  },
  {
   "cell_type": "code",
   "execution_count": null,
   "metadata": {},
   "outputs": [],
   "source": [
    "y, sr = librosa.load('../data/latch.mp3', duration=45)\n",
    "print(y.shape)"
   ]
  },
  {
   "cell_type": "code",
   "execution_count": null,
   "metadata": {},
   "outputs": [],
   "source": [
    "n_fft=2048\n",
    "D = librosa.stft(y, n_fft=n_fft)"
   ]
  },
  {
   "cell_type": "code",
   "execution_count": null,
   "metadata": {},
   "outputs": [],
   "source": [
    "print(D.shape)\n",
    "print(y.shape[0]/D.shape[1])"
   ]
  },
  {
   "cell_type": "code",
   "execution_count": null,
   "metadata": {},
   "outputs": [],
   "source": [
    "all_freqs = librosa.fft_frequencies(sr=sr, n_fft=n_fft)"
   ]
  },
  {
   "cell_type": "code",
   "execution_count": null,
   "metadata": {},
   "outputs": [],
   "source": [
    "freqs = list(map(int, all_freqs))\n",
    "freqs = freqs[0:20]\n",
    "print(freqs)"
   ]
  },
  {
   "cell_type": "code",
   "execution_count": null,
   "metadata": {},
   "outputs": [],
   "source": [
    "diff = [freqs[i + 1] - f for i, f in enumerate(freqs) if i < len(freqs) - 1]"
   ]
  },
  {
   "cell_type": "code",
   "execution_count": null,
   "metadata": {},
   "outputs": [],
   "source": [
    "print(f'len: {len(diff)}')\n",
    "print(f'min: {min(diff)}')\n",
    "print(f'max: {max(diff)}')"
   ]
  },
  {
   "cell_type": "code",
   "execution_count": null,
   "metadata": {},
   "outputs": [],
   "source": [
    "all_freqs[-1]"
   ]
  },
  {
   "cell_type": "code",
   "execution_count": null,
   "metadata": {},
   "outputs": [],
   "source": [
    "import math\n",
    "As = [27.5*math.pow(2, n) for n in range(10)]\n",
    "print(As)\n"
   ]
  },
  {
   "cell_type": "code",
   "execution_count": null,
   "metadata": {},
   "outputs": [],
   "source": [
    "[27.5*math.pow(2, (2-i)/12) for i in range(12)]"
   ]
  },
  {
   "cell_type": "code",
   "execution_count": null,
   "metadata": {},
   "outputs": [],
   "source": [
    "n = 12\n",
    "np.linspace(0, (12.0 * n) / 12, num=n+1, endpoint=True)"
   ]
  },
  {
   "cell_type": "code",
   "execution_count": null,
   "metadata": {},
   "outputs": [],
   "source": [
    "t = [40*math.pow(2, n) for n in range(10)]\n",
    "print(t)"
   ]
  },
  {
   "cell_type": "code",
   "execution_count": null,
   "metadata": {},
   "outputs": [],
   "source": [
    "librosa.amplitude_to_db(np.abs(D), ref=np.max)"
   ]
  },
  {
   "cell_type": "code",
   "execution_count": null,
   "metadata": {},
   "outputs": [],
   "source": [
    "D.shape"
   ]
  },
  {
   "cell_type": "code",
   "execution_count": null,
   "metadata": {},
   "outputs": [],
   "source": [
    "db_s = librosa.amplitude_to_db(np.abs(D), ref=np.max)\n",
    "db_s.shape"
   ]
  },
  {
   "cell_type": "code",
   "execution_count": null,
   "metadata": {},
   "outputs": [],
   "source": [
    "log_db_s = np.array([[np.average(db_s[int(math.pow(2, i-1)): int(math.pow(2, i)), j]) for i in range(10)] for j in range(db_s.shape[1])])\n",
    "print(log_db_s.T.shape)\n",
    "plt.rcParams['figure.figsize'] = [11, 3]\n",
    "plt.imshow(log_db_s.T, aspect=30, origin='lower')"
   ]
  },
  {
   "cell_type": "code",
   "execution_count": null,
   "metadata": {},
   "outputs": [],
   "source": [
    "plt.figure(figsize=(10, 4))\n",
    "db_D = librosa.amplitude_to_db(np.abs(D))\n",
    "librosa.display.specshow(db_D, y_axis='log', x_axis='time')"
   ]
  }
 ],
 "metadata": {
  "kernelspec": {
   "display_name": "Whirling",
   "language": "python",
   "name": "whirling"
  },
  "language_info": {
   "codemirror_mode": {
    "name": "ipython",
    "version": 3
   },
   "file_extension": ".py",
   "mimetype": "text/x-python",
   "name": "python",
   "nbconvert_exporter": "python",
   "pygments_lexer": "ipython3",
   "version": "3.6.8"
  }
 },
 "nbformat": 4,
 "nbformat_minor": 2
}
